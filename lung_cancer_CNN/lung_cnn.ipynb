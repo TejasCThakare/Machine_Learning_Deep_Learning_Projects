{
  "nbformat": 4,
  "nbformat_minor": 0,
  "metadata": {
    "colab": {
      "provenance": []
    },
    "kernelspec": {
      "name": "python3",
      "display_name": "Python 3"
    },
    "language_info": {
      "name": "python"
    }
  },
  "cells": [
    {
      "cell_type": "code",
      "execution_count": 1,
      "metadata": {
        "id": "cK96ZbNAzrHm"
      },
      "outputs": [],
      "source": [
        "import numpy as np\n",
        "import pandas as pd\n",
        "import matplotlib.pyplot as plt\n",
        "from PIL import Image\n",
        "from glob import glob\n",
        "\n",
        "from sklearn.model_selection import train_test_split\n",
        "from sklearn import metrics\n",
        "\n",
        "import cv2\n",
        "import gc\n",
        "import os\n",
        "\n",
        "import tensorflow as tf\n",
        "from tensorflow import keras\n",
        "from keras import layers\n",
        "\n",
        "import warnings\n",
        "warnings.filterwarnings('ignore')\n"
      ]
    },
    {
      "cell_type": "code",
      "source": [
        "from zipfile import ZipFile\n",
        "\n",
        "data_path = '/content/lung_colon_image_set.zip'\n",
        "\n",
        "with ZipFile(data_path,'r') as zip:\n",
        "    zip.extractall()\n",
        "    print('The data set has been extracted.')\n"
      ],
      "metadata": {
        "colab": {
          "base_uri": "https://localhost:8080/",
          "height": 356
        },
        "id": "lQfP47FBz0LA",
        "outputId": "7d0a81ef-d724-415b-d011-6f95cf550ff3"
      },
      "execution_count": 2,
      "outputs": [
        {
          "output_type": "error",
          "ename": "BadZipFile",
          "evalue": "File is not a zip file",
          "traceback": [
            "\u001b[0;31m---------------------------------------------------------------------------\u001b[0m",
            "\u001b[0;31mBadZipFile\u001b[0m                                Traceback (most recent call last)",
            "\u001b[0;32m<ipython-input-2-bca342a7c2b8>\u001b[0m in \u001b[0;36m<cell line: 5>\u001b[0;34m()\u001b[0m\n\u001b[1;32m      3\u001b[0m \u001b[0mdata_path\u001b[0m \u001b[0;34m=\u001b[0m \u001b[0;34m'/content/lung_colon_image_set.zip'\u001b[0m\u001b[0;34m\u001b[0m\u001b[0;34m\u001b[0m\u001b[0m\n\u001b[1;32m      4\u001b[0m \u001b[0;34m\u001b[0m\u001b[0m\n\u001b[0;32m----> 5\u001b[0;31m \u001b[0;32mwith\u001b[0m \u001b[0mZipFile\u001b[0m\u001b[0;34m(\u001b[0m\u001b[0mdata_path\u001b[0m\u001b[0;34m,\u001b[0m\u001b[0;34m'r'\u001b[0m\u001b[0;34m)\u001b[0m \u001b[0;32mas\u001b[0m \u001b[0mzip\u001b[0m\u001b[0;34m:\u001b[0m\u001b[0;34m\u001b[0m\u001b[0;34m\u001b[0m\u001b[0m\n\u001b[0m\u001b[1;32m      6\u001b[0m     \u001b[0mzip\u001b[0m\u001b[0;34m.\u001b[0m\u001b[0mextractall\u001b[0m\u001b[0;34m(\u001b[0m\u001b[0;34m)\u001b[0m\u001b[0;34m\u001b[0m\u001b[0;34m\u001b[0m\u001b[0m\n\u001b[1;32m      7\u001b[0m     \u001b[0mprint\u001b[0m\u001b[0;34m(\u001b[0m\u001b[0;34m'The data set has been extracted.'\u001b[0m\u001b[0;34m)\u001b[0m\u001b[0;34m\u001b[0m\u001b[0;34m\u001b[0m\u001b[0m\n",
            "\u001b[0;32m/usr/lib/python3.10/zipfile.py\u001b[0m in \u001b[0;36m__init__\u001b[0;34m(self, file, mode, compression, allowZip64, compresslevel, strict_timestamps)\u001b[0m\n\u001b[1;32m   1270\u001b[0m         \u001b[0;32mtry\u001b[0m\u001b[0;34m:\u001b[0m\u001b[0;34m\u001b[0m\u001b[0;34m\u001b[0m\u001b[0m\n\u001b[1;32m   1271\u001b[0m             \u001b[0;32mif\u001b[0m \u001b[0mmode\u001b[0m \u001b[0;34m==\u001b[0m \u001b[0;34m'r'\u001b[0m\u001b[0;34m:\u001b[0m\u001b[0;34m\u001b[0m\u001b[0;34m\u001b[0m\u001b[0m\n\u001b[0;32m-> 1272\u001b[0;31m                 \u001b[0mself\u001b[0m\u001b[0;34m.\u001b[0m\u001b[0m_RealGetContents\u001b[0m\u001b[0;34m(\u001b[0m\u001b[0;34m)\u001b[0m\u001b[0;34m\u001b[0m\u001b[0;34m\u001b[0m\u001b[0m\n\u001b[0m\u001b[1;32m   1273\u001b[0m             \u001b[0;32melif\u001b[0m \u001b[0mmode\u001b[0m \u001b[0;32min\u001b[0m \u001b[0;34m(\u001b[0m\u001b[0;34m'w'\u001b[0m\u001b[0;34m,\u001b[0m \u001b[0;34m'x'\u001b[0m\u001b[0;34m)\u001b[0m\u001b[0;34m:\u001b[0m\u001b[0;34m\u001b[0m\u001b[0;34m\u001b[0m\u001b[0m\n\u001b[1;32m   1274\u001b[0m                 \u001b[0;31m# set the modified flag so central directory gets written\u001b[0m\u001b[0;34m\u001b[0m\u001b[0;34m\u001b[0m\u001b[0m\n",
            "\u001b[0;32m/usr/lib/python3.10/zipfile.py\u001b[0m in \u001b[0;36m_RealGetContents\u001b[0;34m(self)\u001b[0m\n\u001b[1;32m   1337\u001b[0m             \u001b[0;32mraise\u001b[0m \u001b[0mBadZipFile\u001b[0m\u001b[0;34m(\u001b[0m\u001b[0;34m\"File is not a zip file\"\u001b[0m\u001b[0;34m)\u001b[0m\u001b[0;34m\u001b[0m\u001b[0;34m\u001b[0m\u001b[0m\n\u001b[1;32m   1338\u001b[0m         \u001b[0;32mif\u001b[0m \u001b[0;32mnot\u001b[0m \u001b[0mendrec\u001b[0m\u001b[0;34m:\u001b[0m\u001b[0;34m\u001b[0m\u001b[0;34m\u001b[0m\u001b[0m\n\u001b[0;32m-> 1339\u001b[0;31m             \u001b[0;32mraise\u001b[0m \u001b[0mBadZipFile\u001b[0m\u001b[0;34m(\u001b[0m\u001b[0;34m\"File is not a zip file\"\u001b[0m\u001b[0;34m)\u001b[0m\u001b[0;34m\u001b[0m\u001b[0;34m\u001b[0m\u001b[0m\n\u001b[0m\u001b[1;32m   1340\u001b[0m         \u001b[0;32mif\u001b[0m \u001b[0mself\u001b[0m\u001b[0;34m.\u001b[0m\u001b[0mdebug\u001b[0m \u001b[0;34m>\u001b[0m \u001b[0;36m1\u001b[0m\u001b[0;34m:\u001b[0m\u001b[0;34m\u001b[0m\u001b[0;34m\u001b[0m\u001b[0m\n\u001b[1;32m   1341\u001b[0m             \u001b[0mprint\u001b[0m\u001b[0;34m(\u001b[0m\u001b[0mendrec\u001b[0m\u001b[0;34m)\u001b[0m\u001b[0;34m\u001b[0m\u001b[0;34m\u001b[0m\u001b[0m\n",
            "\u001b[0;31mBadZipFile\u001b[0m: File is not a zip file"
          ]
        }
      ]
    },
    {
      "cell_type": "code",
      "source": [
        "path = '/content/lung_colon_image_set/lung_image_sets'\n",
        "classes = os.listdir(path)\n",
        "classes\n"
      ],
      "metadata": {
        "id": "DL_gdKhN0Jie"
      },
      "execution_count": null,
      "outputs": []
    },
    {
      "cell_type": "code",
      "source": [
        "# path = '/lung_colon_image_set/lung_image_sets'\n",
        "\n",
        "for cat in classes:\n",
        "\timage_dir = f'{path}/{cat}'\n",
        "\timages = os.listdir(image_dir)\n",
        "\n",
        "\tfig, ax = plt.subplots(1, 3, figsize=(15, 5))\n",
        "\tfig.suptitle(f'Images for {cat} category . . . .', fontsize=20)\n",
        "\n",
        "\tfor i in range(3):\n",
        "\t\tk = np.random.randint(0, len(images))\n",
        "\t\timg = np.array(Image.open(f'{path}/{cat}/{images[k]}'))\n",
        "\t\tax[i].imshow(img)\n",
        "\t\tax[i].axis('off')\n",
        "\tplt.show()\n"
      ],
      "metadata": {
        "id": "1yujSkct0L0V"
      },
      "execution_count": null,
      "outputs": []
    },
    {
      "cell_type": "code",
      "source": [
        "IMG_SIZE = 256\n",
        "SPLIT = 0.2\n",
        "EPOCHS = 10\n",
        "BATCH_SIZE = 64\n"
      ],
      "metadata": {
        "id": "yZwnKCpu4EnT"
      },
      "execution_count": null,
      "outputs": []
    },
    {
      "cell_type": "code",
      "source": [
        "X = []\n",
        "Y = []\n",
        "\n",
        "for i, cat in enumerate(classes):\n",
        "    # Indent this line to include it within the for loop\n",
        "    images = glob(f'{path}/{cat}/*.jpeg')\n",
        "\n",
        "    for image in images:\n",
        "        img = cv2.imread(image)\n",
        "\n",
        "        X.append(cv2.resize(img, (IMG_SIZE, IMG_SIZE)))\n",
        "        Y.append(i)\n",
        "\n",
        "X = np.asarray(X)\n",
        "one_hot_encoded_Y = pd.get_dummies(Y).values"
      ],
      "metadata": {
        "id": "gZ6gHrfm4FqZ"
      },
      "execution_count": null,
      "outputs": []
    },
    {
      "cell_type": "code",
      "source": [
        "X_train, X_val, Y_train, Y_val = train_test_split(X, one_hot_encoded_Y,\n",
        "\t\t\t\t\t\t\t\t\t\t\t\ttest_size = SPLIT,\n",
        "\t\t\t\t\t\t\t\t\t\t\t\trandom_state = 2022)\n",
        "print(X_train.shape, X_val.shape)\n"
      ],
      "metadata": {
        "id": "mnhmTusF44GC"
      },
      "execution_count": null,
      "outputs": []
    },
    {
      "cell_type": "code",
      "source": [
        "model = keras.models.Sequential([\n",
        "\tlayers.Conv2D(filters=32,\n",
        "\t\t\t\tkernel_size=(5, 5),\n",
        "\t\t\t\tactivation='relu',\n",
        "\t\t\t\tinput_shape=(IMG_SIZE,\n",
        "\t\t\t\t\t\t\tIMG_SIZE,\n",
        "\t\t\t\t\t\t\t3),\n",
        "\t\t\t\tpadding='same'),\n",
        "\tlayers.MaxPooling2D(2, 2),\n",
        "\n",
        "\tlayers.Conv2D(filters=64,\n",
        "\t\t\t\tkernel_size=(3, 3),\n",
        "\t\t\t\tactivation='relu',\n",
        "\t\t\t\tpadding='same'),\n",
        "\tlayers.MaxPooling2D(2, 2),\n",
        "\n",
        "\tlayers.Conv2D(filters=128,\n",
        "\t\t\t\tkernel_size=(3, 3),\n",
        "\t\t\t\tactivation='relu',\n",
        "\t\t\t\tpadding='same'),\n",
        "\tlayers.MaxPooling2D(2, 2),\n",
        "\n",
        "\tlayers.Flatten(),\n",
        "\tlayers.Dense(256, activation='relu'),\n",
        "\tlayers.BatchNormalization(),\n",
        "\tlayers.Dense(128, activation='relu'),\n",
        "\tlayers.Dropout(0.3),\n",
        "\tlayers.BatchNormalization(),\n",
        "\tlayers.Dense(3, activation='softmax')\n",
        "])\n"
      ],
      "metadata": {
        "id": "3-9bF9Pn5CzS"
      },
      "execution_count": null,
      "outputs": []
    },
    {
      "cell_type": "code",
      "source": [
        "model.summary()\n"
      ],
      "metadata": {
        "id": "FoYyjHOlWuuR"
      },
      "execution_count": null,
      "outputs": []
    },
    {
      "cell_type": "code",
      "source": [
        "keras.utils.plot_model(\n",
        "\tmodel,\n",
        "\tshow_shapes = True,\n",
        "\tshow_dtype = True,\n",
        "\tshow_layer_activations = True\n",
        ")\n"
      ],
      "metadata": {
        "collapsed": true,
        "id": "D3D-uWYLWy4H"
      },
      "execution_count": null,
      "outputs": []
    },
    {
      "cell_type": "code",
      "source": [
        "model.compile(\n",
        "\toptimizer = 'adam',\n",
        "\tloss = 'categorical_crossentropy',\n",
        "\tmetrics = ['accuracy']\n",
        ")\n"
      ],
      "metadata": {
        "id": "oELSUm87W7Zx"
      },
      "execution_count": null,
      "outputs": []
    },
    {
      "cell_type": "code",
      "source": [
        "from keras.callbacks import EarlyStopping, ReduceLROnPlateau\n",
        "\n",
        "\n",
        "class myCallback(tf.keras.callbacks.Callback):\n",
        "\tdef on_epoch_end(self, epoch, logs={}):\n",
        "\t\tif logs.get('val_accuracy') > 0.90:\n",
        "\t\t\tprint('\\n Validation accuracy has reached upto \\\n",
        "\t\t\t\t\t90% so, stopping further training.')\n",
        "\t\t\tself.model.stop_training = True\n",
        "\n",
        "\n",
        "es = EarlyStopping(patience=3,\n",
        "\t\t\t\tmonitor='val_accuracy',\n",
        "\t\t\t\trestore_best_weights=True)\n",
        "\n",
        "lr = ReduceLROnPlateau(monitor='val_loss',\n",
        "\t\t\t\t\tpatience=2,\n",
        "\t\t\t\t\tfactor=0.5,\n",
        "\t\t\t\t\tverbose=1)\n"
      ],
      "metadata": {
        "id": "htkoMC7gW840"
      },
      "execution_count": null,
      "outputs": []
    },
    {
      "cell_type": "code",
      "source": [
        "history = model.fit(X_train, Y_train,\n",
        "\t\t\t\t\tvalidation_data = (X_val, Y_val),\n",
        "\t\t\t\t\tbatch_size = BATCH_SIZE,\n",
        "\t\t\t\t\tepochs = EPOCHS,\n",
        "\t\t\t\t\tverbose = 1,\n",
        "\t\t\t\t\tcallbacks = [es, lr, myCallback()])\n"
      ],
      "metadata": {
        "id": "7bq8e1YHXA1q"
      },
      "execution_count": null,
      "outputs": []
    }
  ]
}