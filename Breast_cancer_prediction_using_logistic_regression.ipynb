{
  "cells": [
    {
      "cell_type": "markdown",
      "source": [
        "In this project, the features in the provided dataset are used to predict  (using logistic regression) whether the patient has a benign or malignant tumor.\n"
      ],
      "metadata": {
        "id": "snqvkfVjzat5"
      }
    },
    {
      "cell_type": "code",
      "execution_count": 1,
      "metadata": {
        "id": "J2oQGDuDyZJM"
      },
      "outputs": [],
      "source": [
        "#importing the libraries\n",
        "import pandas as pd\n",
        "import numpy as np"
      ]
    },
    {
      "cell_type": "code",
      "execution_count": 2,
      "metadata": {
        "id": "BByhBF3QyZJN"
      },
      "outputs": [],
      "source": [
        "# Sigmoid function\n",
        "def sigmoid(z):\n",
        "    return 1 / (1 + np.exp(-z))"
      ]
    },
    {
      "cell_type": "code",
      "execution_count": 3,
      "metadata": {
        "id": "eGkNqyoUyZJO"
      },
      "outputs": [],
      "source": [
        "# Logistic Regression model\n",
        "class LogisticRegression:\n",
        "    def __init__(self, learning_rate=0.01, iterations=1000):\n",
        "        self.learning_rate = learning_rate\n",
        "        self.iterations = iterations\n",
        "# fit() function do gradienct descent and train the model\n",
        "    def fit(self, X, y):\n",
        "        self.m, self.n = X.shape\n",
        "        self.weights = np.zeros((self.n, 1))\n",
        "        self.bias = 0\n",
        "        y = y.reshape(self.m, 1)\n",
        "        self.losses = []\n",
        "\n",
        "        for _ in range(self.iterations):\n",
        "            # Linear model\n",
        "            linear_model = np.dot(X, self.weights) + self.bias\n",
        "            # Apply sigmoid function\n",
        "            y_pred = sigmoid(linear_model)\n",
        "\n",
        "            # Gradien computation by minimising the loss\n",
        "            dw = (1 / self.m) * np.dot(X.T, (y_pred - y))\n",
        "            db = (1 / self.m) * np.sum(y_pred - y)\n",
        "\n",
        "            # Update parameters\n",
        "            self.weights -= self.learning_rate * dw\n",
        "            self.bias -= self.learning_rate * db\n",
        "\n",
        "            # Compute and store the loss\n",
        "            loss = self.compute_loss(y, y_pred)\n",
        "            self.losses.append(loss)\n",
        "\n",
        "    #Calculate the probability by using the sigmoid function\n",
        "    def predict_proba(self, X):\n",
        "        linear_model = np.dot(X, self.weights) + self.bias\n",
        "        return sigmoid(linear_model)\n",
        "\n",
        "    # Prediction based on the model\n",
        "    def predict(self, X):\n",
        "        y_pred = self.predict_proba(X)\n",
        "        y_pred_class = [1 if i > 0.5 else 0 for i in y_pred]\n",
        "        return np.array(y_pred_class).flatten()\n",
        "\n",
        "    #For the loss calculation (log loss)\n",
        "    def compute_loss(self, y, y_pred):\n",
        "        m = y.shape[0]\n",
        "        loss = -1/m * (np.dot(y.T, np.log(y_pred)) + np.dot((1 - y).T, np.log(1 - y_pred)))\n",
        "        return loss[0,0]\n"
      ]
    },
    {
      "cell_type": "code",
      "execution_count": 17,
      "metadata": {
        "id": "TQLA4KOuyZJO"
      },
      "outputs": [],
      "source": [
        "# Load the dataset\n",
        "data = pd.read_csv('data.csv') # dataset is taken from the kaggel.\n",
        "                               # It is a dataset of Breast Cancer patients with Malignant and Benign tumor.\n",
        "\n",
        "# Drop the unnecessary columns\n",
        "data.drop(['Unnamed: 32', 'id'], axis=1, inplace=True)\n",
        "\n",
        "# Encode the target variable. 1 for malignant (M) and 0 for  benign (B)\n",
        "data['diagnosis'] = data['diagnosis'].map({'M': 1, 'B': 0})"
      ]
    },
    {
      "cell_type": "code",
      "execution_count": 5,
      "metadata": {
        "id": "5kiRB0omyZJP"
      },
      "outputs": [],
      "source": [
        "# Split the data into features and target\n",
        "X = data.drop('diagnosis', axis=1).values #values function is used for pandas and in pandas axis=1 referes to the coloumn\n",
        "y = data['diagnosis'].values\n",
        "# print(X,y)"
      ]
    },
    {
      "cell_type": "code",
      "execution_count": 6,
      "metadata": {
        "id": "ML7m1cYGyZJP"
      },
      "outputs": [],
      "source": [
        "# Split the dataset into training and testing sets\n",
        "split_ratio = 0.8\n",
        "split = int(split_ratio * len(X))\n",
        "X_train, X_test = X[:split], X[split:]\n",
        "y_train, y_test = y[:split], y[split:]"
      ]
    },
    {
      "cell_type": "code",
      "execution_count": 7,
      "metadata": {
        "id": "lbaYgqPeyZJP"
      },
      "outputs": [],
      "source": [
        "mean = np.mean(X_train, axis=0)\n",
        "std = np.std(X_train, axis=0)\n",
        "X_train = (X_train - mean) / std\n",
        "X_test = (X_test - mean) / std"
      ]
    },
    {
      "cell_type": "code",
      "execution_count": 8,
      "metadata": {
        "id": "1bZka5PoyZJQ"
      },
      "outputs": [],
      "source": [
        "# Create and train the Logistic Regression model\n",
        "model = LogisticRegression(learning_rate=0.01, iterations=10000)\n",
        "model.fit(X_train, y_train)"
      ]
    },
    {
      "cell_type": "code",
      "execution_count": 9,
      "metadata": {
        "id": "4iZkycIqyZJQ"
      },
      "outputs": [],
      "source": [
        "# Make predictions on the test set\n",
        "y_pred = model.predict(X_test)"
      ]
    },
    {
      "cell_type": "code",
      "execution_count": 10,
      "metadata": {
        "colab": {
          "base_uri": "https://localhost:8080/"
        },
        "id": "xHBEQp80yZJQ",
        "outputId": "a5624663-4d74-4e90-fb1b-cc657931cdca"
      },
      "outputs": [
        {
          "output_type": "stream",
          "name": "stdout",
          "text": [
            "Confusion Matrix:\n",
            "Predicted   0   1\n",
            "Actual           \n",
            "0          85   3\n",
            "1           0  26\n"
          ]
        }
      ],
      "source": [
        "# Confusion matrix\n",
        "\n",
        "conf_matrix = pd.crosstab(y_test, y_pred, rownames=['Actual'], colnames=['Predicted'])\n",
        "print('Confusion Matrix:')\n",
        "print(conf_matrix)"
      ]
    },
    {
      "cell_type": "code",
      "execution_count": 11,
      "metadata": {
        "id": "xKtGbiJuyZJQ"
      },
      "outputs": [],
      "source": [
        "def classification_report(y_true, y_pred):\n",
        "    tp = np.sum((y_true == 1) & (y_pred == 1))\n",
        "    tn = np.sum((y_true == 0) & (y_pred == 0))\n",
        "    fp = np.sum((y_true == 0) & (y_pred == 1))\n",
        "    fn = np.sum((y_true == 1) & (y_pred == 0))\n",
        "\n",
        "    accuracy = (tp + tn) / (tp + tn + fp + fn)\n",
        "    precision = tp / (tp + fp)\n",
        "    recall = tp / (tp + fn)\n",
        "    f1_score = 2 * (precision * recall) / (precision + recall)\n",
        "\n",
        "    report = {\n",
        "        'accuracy': accuracy,\n",
        "        'precision': precision,\n",
        "        'recall': recall,\n",
        "        'f1_score': f1_score\n",
        "    }\n",
        "\n",
        "    return report\n"
      ]
    },
    {
      "cell_type": "code",
      "execution_count": 12,
      "metadata": {
        "colab": {
          "base_uri": "https://localhost:8080/"
        },
        "id": "JduINnH2yZJR",
        "outputId": "b1bac1e2-9cd4-4858-bc9c-32e7c2196788"
      },
      "outputs": [
        {
          "output_type": "stream",
          "name": "stdout",
          "text": [
            "Accuracy: 0.9736842105263158\n",
            "Precision: 0.896551724137931\n",
            "Recall: 1.0\n",
            "F1 Score: 0.9454545454545454\n"
          ]
        }
      ],
      "source": [
        "# Print classification report\n",
        "report = classification_report(y_test, y_pred)\n",
        "print('Accuracy:', report['accuracy'])\n",
        "print('Precision:', report['precision'])\n",
        "print('Recall:', report['recall'])\n",
        "print('F1 Score:', report['f1_score'])\n"
      ]
    },
    {
      "cell_type": "code",
      "execution_count": 13,
      "metadata": {
        "id": "lPQAN7eayZJR"
      },
      "outputs": [],
      "source": [
        "# Function to make a prediction for new input data\n",
        "def make_prediction(model, new_data):\n",
        "    new_data = (new_data - mean) / std  # Standardize the new data\n",
        "    prediction = model.predict(new_data)\n",
        "    return prediction"
      ]
    },
    {
      "cell_type": "code",
      "execution_count": 14,
      "metadata": {
        "colab": {
          "base_uri": "https://localhost:8080/",
          "height": 541
        },
        "id": "of_5n5eeyZJR",
        "outputId": "b0388e38-daf8-4091-d55e-272da02cb2cf"
      },
      "outputs": [
        {
          "output_type": "stream",
          "name": "stdout",
          "text": [
            "Prediction for new data: [0 1 1 1 0 1 1 0 1 1 0 1 0 0 1 0 0 0 0 0 1 0 0 0 0 0 0 1 1 1 0 1 1 1 1 0 1\n",
            " 1 0 0 1 1 1 0 1 0 0 1 1 0 0 0 0 1 0 0 1 1 1 1 1 1 1 0 0 1 0 0 0 0 0 1 1 1\n",
            " 1 1 1 1 1 1 1 1 0 0 0 0 0 1 1 0 0 0 0 0 0 0 0 1 0 0 0 1 0 0 0 0 0 0 0 1 1\n",
            " 0 0 0]\n"
          ]
        },
        {
          "output_type": "display_data",
          "data": {
            "text/plain": [
              "<Figure size 640x480 with 1 Axes>"
            ],
            "image/png": "[encoded data removed]"
          },
          "metadata": {}
        }
      ],
      "source": [
        "# Example of making a prediction on new data\n",
        "\n",
        "\n",
        "new_data=X_test  #Here Test data is used for demo purpose only\n",
        "\n",
        "prediction = make_prediction(model, new_data)\n",
        "print('Prediction for new data:', prediction)\n",
        "\n",
        "# Print the loss over iterations\n",
        "import matplotlib.pyplot as plt\n",
        "\n",
        "plt.plot(model.losses)\n",
        "plt.xlabel('Iterations')\n",
        "plt.ylabel('Loss')\n",
        "plt.title('Loss over Iterations')\n",
        "plt.show()"
      ]
    }
  ],
  "metadata": {
    "kernelspec": {
      "display_name": "Python 3",
      "language": "python",
      "name": "python3"
    },
    "language_info": {
      "codemirror_mode": {
        "name": "ipython",
        "version": 3
      },
      "file_extension": ".py",
      "mimetype": "text/x-python",
      "name": "python",
      "nbconvert_exporter": "python",
      "pygments_lexer": "ipython3",
      "version": "3.12.4"
    },
    "colab": {
      "provenance": []
    }
  },
  "nbformat": 4,
  "nbformat_minor": 0
}