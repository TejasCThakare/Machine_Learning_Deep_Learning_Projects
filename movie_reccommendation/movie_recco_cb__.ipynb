{
  "nbformat": 4,
  "nbformat_minor": 0,
  "metadata": {
    "colab": {
      "provenance": []
    },
    "kernelspec": {
      "name": "python3",
      "display_name": "Python 3"
    },
    "language_info": {
      "name": "python"
    }
  },
  "cells": [
    {
      "cell_type": "markdown",
      "source": [
        "In this project, the content-based recommendation system has been implemented."
      ],
      "metadata": {
        "id": "96--V7HGFI_C"
      }
    },
    {
      "cell_type": "code",
      "execution_count": 1,
      "metadata": {
        "id": "ShGb0Rk0kgzm"
      },
      "outputs": [],
      "source": [
        "import pandas as pd\n",
        "import numpy as np\n",
        "import matplotlib.pyplot as plt\n",
        "import seaborn as sns"
      ]
    },
    {
      "cell_type": "code",
      "source": [
        "credits = pd.read_csv(\"tmdb_5000_credits.csv\")\n",
        "movies = pd.read_csv(\"tmdb_5000_movies.csv\")\n",
        "# credits.head()"
      ],
      "metadata": {
        "id": "3yfOayfNlC2i"
      },
      "execution_count": 3,
      "outputs": []
    },
    {
      "cell_type": "code",
      "source": [
        "# movies.head()"
      ],
      "metadata": {
        "id": "PGy04EDfl37F"
      },
      "execution_count": null,
      "outputs": []
    },
    {
      "cell_type": "code",
      "source": [
        "print(\"Credits:\",credits.shape)\n",
        "print(\"Movies Dataframe:\",movies.shape)"
      ],
      "metadata": {
        "colab": {
          "base_uri": "https://localhost:8080/"
        },
        "id": "xhGRqBpWmyA5",
        "outputId": "2548e545-43dc-4fb9-fb1d-954f8de68eee"
      },
      "execution_count": 4,
      "outputs": [
        {
          "output_type": "stream",
          "name": "stdout",
          "text": [
            "Credits: (4803, 4)\n",
            "Movies Dataframe: (4803, 20)\n"
          ]
        }
      ]
    },
    {
      "cell_type": "code",
      "source": [
        "# Renaming the 'movie_id' column in the credits DataFrame to 'id' for merging\n",
        "credits_column_renamed = credits.rename(index=str, columns={\"movie_id\": \"id\"})\n",
        "\n",
        "# Merging the movies and credits DataFrames on the 'id' column\n",
        "movies_merge = movies.merge(credits_column_renamed, on='id')\n",
        "\n",
        "# Printing the shape of the merged DataFrame to see the number of rows and columns\n",
        "print(movies_merge.shape)\n"
      ],
      "metadata": {
        "colab": {
          "base_uri": "https://localhost:8080/"
        },
        "id": "MHLmfvlanSm0",
        "outputId": "69e6966a-72dc-4357-ad68-a213d833a7f1"
      },
      "execution_count": 5,
      "outputs": [
        {
          "output_type": "stream",
          "name": "stdout",
          "text": [
            "(4803, 23)\n"
          ]
        }
      ]
    },
    {
      "cell_type": "code",
      "source": [
        "# Drop unnecessary columns from the merged DataFrame\n",
        "movies_cleaned = movies_merge.drop(columns=['homepage', 'title_x', 'title_y', 'status', 'production_countries'])\n",
        "\n",
        "# Print the first 5 rows of the cleaned DataFrame to inspect the changes\n",
        "# print(movies_cleaned.head())\n",
        "\n",
        "# Print information about the cleaned DataFrame to understand its structure and data types\n",
        "# print(movies_cleaned.info())\n",
        "\n",
        "# Print the 'overview' column of the first row to see the movie description\n",
        "print(movies_cleaned.head(1)['overview'])\n"
      ],
      "metadata": {
        "colab": {
          "base_uri": "https://localhost:8080/"
        },
        "id": "RbQL8Dx6nZv2",
        "outputId": "3bb42e78-0ab6-4ed3-e527-87c634e33759"
      },
      "execution_count": 6,
      "outputs": [
        {
          "output_type": "stream",
          "name": "stdout",
          "text": [
            "0    In the 22nd century, a paraplegic Marine is di...\n",
            "Name: overview, dtype: object\n"
          ]
        }
      ]
    },
    {
      "cell_type": "code",
      "source": [
        "\n",
        "from sklearn.feature_extraction.text import TfidfVectorizer\n",
        "\n",
        "# Initializing the TfidfVectorizer with specific parameters\n",
        "tfv = TfidfVectorizer(\n",
        "    min_df=3,  # Ignore terms that appear in fewer than 3 documents\n",
        "    max_features=None,  # Do not limit the number of features (terms)\n",
        "    strip_accents='unicode',  # Remove accents by converting characters to their closest ASCII representation\n",
        "    analyzer='word',  # Analyze at the word level (as opposed to character level)\n",
        "    token_pattern=r'\\w{1,}',  # Regular expression matching words with 1 or more alphanumeric characters\n",
        "    ngram_range=(1, 3),  # Consider unigrams (1-word), bigrams (2-word), and trigrams (3-word) combinations\n",
        "    stop_words='english'  # Remove common English stop words\n",
        ")\n"
      ],
      "metadata": {
        "id": "_ras6gEHnfvw"
      },
      "execution_count": 7,
      "outputs": []
    },
    {
      "cell_type": "code",
      "source": [
        "# Fill any missing values in the 'overview' column with an empty string\n",
        "movies_cleaned['overview'] = movies_cleaned['overview'].fillna('')\n",
        "\n",
        "# Transform the 'overview' text data to a matrix of TF-IDF features\n",
        "tfv_matrix = tfv.fit_transform(movies_cleaned['overview'])\n",
        "\n",
        "# Print the shape of the TF-IDF matrix to see the number of documents and features\n",
        "print(tfv_matrix.shape)\n"
      ],
      "metadata": {
        "colab": {
          "base_uri": "https://localhost:8080/"
        },
        "id": "1N-PwKCmnmDC",
        "outputId": "9e5e622e-58ff-4367-b0a3-1d5ddfd83cab"
      },
      "execution_count": 8,
      "outputs": [
        {
          "output_type": "stream",
          "name": "stdout",
          "text": [
            "(4803, 10417)\n"
          ]
        }
      ]
    },
    {
      "cell_type": "code",
      "source": [
        "\n",
        "from sklearn.metrics.pairwise import sigmoid_kernel\n",
        "\n",
        "# Compute the sigmoid kernel between the TF-IDF matrices\n",
        "sig = sigmoid_kernel(tfv_matrix, tfv_matrix)\n",
        "\n",
        "# Print the similarity scores for the first movie\n",
        "print(sig[0])\n"
      ],
      "metadata": {
        "colab": {
          "base_uri": "https://localhost:8080/"
        },
        "id": "B9snQX6upfFv",
        "outputId": "742d04ad-7d5d-4aca-edaf-e3725be2acd5"
      },
      "execution_count": 9,
      "outputs": [
        {
          "output_type": "stream",
          "name": "stdout",
          "text": [
            "[0.76163447 0.76159416 0.76159416 ... 0.76159416 0.76159416 0.76159416]\n"
          ]
        }
      ]
    },
    {
      "cell_type": "code",
      "source": [
        "# Create a reverse mapping of indices and movie titles\n",
        "indices = pd.Series(movies_cleaned.index, index=movies_cleaned['original_title']).drop_duplicates()\n",
        "\n",
        "# Print the reverse mapping of indices and movie titles\n",
        "# print(indices)\n",
        "\n",
        "# Print the index of the movie 'Newlyweds'\n",
        "print(indices['Newlyweds'])\n",
        "\n",
        "# Print the sigmoid similarity scores for the movie at index 4799 (which corresponds to 'Newlyweds')\n",
        "print(sig[4799])\n",
        "\n",
        "# Enumerate the sigmoid similarity scores for 'Newlyweds'\n",
        "enumerated_scores = list(enumerate(sig[indices['Newlyweds']]))\n",
        "\n",
        "# Sort the similarity scores in descending order\n",
        "sorted_scores = sorted(enumerated_scores, key=lambda x: x[1], reverse=True)\n",
        "\n",
        "# Print only the first 10 values\n",
        "print(sorted_scores[:10])\n",
        "\n"
      ],
      "metadata": {
        "colab": {
          "base_uri": "https://localhost:8080/"
        },
        "id": "IOafSv5kpo8K",
        "outputId": "579c56f4-1eac-4c72-eea4-14d9973aa346"
      },
      "execution_count": 15,
      "outputs": [
        {
          "output_type": "stream",
          "name": "stdout",
          "text": [
            "4799\n",
            "[0.76159416 0.76159416 0.76159438 ... 0.76159432 0.76159416 0.76159478]\n",
            "[(4799, 0.7616344692549826), (616, 0.7616048159533783), (2689, 0.7616040118828756), (869, 0.7616023446645636), (3969, 0.7615999241031715), (1576, 0.761599897054374), (2290, 0.7615997916001525), (1032, 0.7615997293504287), (3145, 0.7615995818321376), (2531, 0.7615992277356394)]\n"
          ]
        }
      ]
    },
    {
      "cell_type": "code",
      "source": [
        "def give_recomendations(title, sig=sig):\n",
        "    # Get the index corresponding to original_title\n",
        "    idx = indices[title]\n",
        "\n",
        "    # Get the pairwsie similarity scores\n",
        "    sig_scores = list(enumerate(sig[idx]))\n",
        "\n",
        "    # Sort the movies\n",
        "    sig_scores = sorted(sig_scores, key=lambda x: x[1], reverse=True)\n",
        "\n",
        "    # Scores of the 10 most similar movies\n",
        "    sig_scores = sig_scores[1:11]\n",
        "\n",
        "    # Movie indices\n",
        "    movie_indices = [i[0] for i in sig_scores]\n",
        "\n",
        "    # Top 10 most similar movies\n",
        "    return movies_cleaned['original_title'].iloc[movie_indices]"
      ],
      "metadata": {
        "id": "k1XHyrOApzRk"
      },
      "execution_count": 13,
      "outputs": []
    },
    {
      "cell_type": "code",
      "source": [
        "print(give_recomendations('Newlyweds'))"
      ],
      "metadata": {
        "colab": {
          "base_uri": "https://localhost:8080/"
        },
        "id": "__DtovOip4cj",
        "outputId": "8f41a9dc-b1d6-49e9-b16a-24d92dafe7af"
      },
      "execution_count": 14,
      "outputs": [
        {
          "output_type": "stream",
          "name": "stdout",
          "text": [
            "616                       Ted 2\n",
            "2689         Our Family Wedding\n",
            "869          You, Me and Dupree\n",
            "3969           Something Wicked\n",
            "1576                 Bride Wars\n",
            "2290               Just Married\n",
            "1032      America's Sweethearts\n",
            "3145                      Amour\n",
            "2531     Why Did I Get Married?\n",
            "504     The Secret Life of Pets\n",
            "Name: original_title, dtype: object\n"
          ]
        }
      ]
    }
  ]
}