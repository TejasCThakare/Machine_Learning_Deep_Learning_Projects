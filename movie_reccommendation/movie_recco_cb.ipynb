{
  "nbformat": 4,
  "nbformat_minor": 0,
  "metadata": {
    "colab": {
      "provenance": []
    },
    "kernelspec": {
      "name": "python3",
      "display_name": "Python 3"
    },
    "language_info": {
      "name": "python"
    }
  },
  "cells": [
    {
      "cell_type": "markdown",
      "source": [
        "In this project, the content-based recommendation system has been implemented."
      ],
      "metadata": {
        "id": "96--V7HGFI_C"
      }
    },
    {
      "cell_type": "code",
      "execution_count": 2,
      "metadata": {
        "id": "ShGb0Rk0kgzm"
      },
      "outputs": [],
      "source": [
        "import pandas as pd\n",
        "import numpy as np\n",
        "import matplotlib.pyplot as plt\n",
        "import seaborn as sns"
      ]
    },
    {
      "cell_type": "code",
      "source": [
        "credits = pd.read_csv(\"tmdb_5000_credits.csv\")\n",
        "movies = pd.read_csv(\"tmdb_5000_movies.csv\")\n",
        "# credits.head()"
      ],
      "metadata": {
        "id": "3yfOayfNlC2i"
      },
      "execution_count": 24,
      "outputs": []
    },
    {
      "cell_type": "code",
      "source": [
        "# movies.head()"
      ],
      "metadata": {
        "id": "PGy04EDfl37F"
      },
      "execution_count": 25,
      "outputs": []
    },
    {
      "cell_type": "code",
      "source": [
        "print(\"Credits:\",credits.shape)\n",
        "print(\"Movies Dataframe:\",movies.shape)"
      ],
      "metadata": {
        "colab": {
          "base_uri": "https://localhost:8080/"
        },
        "id": "xhGRqBpWmyA5",
        "outputId": "95d7348a-2cd2-4ec4-dad2-918a471348aa"
      },
      "execution_count": 7,
      "outputs": [
        {
          "output_type": "stream",
          "name": "stdout",
          "text": [
            "Credits: (4803, 4)\n",
            "Movies Dataframe: (4803, 20)\n"
          ]
        }
      ]
    },
    {
      "cell_type": "code",
      "source": [
        "# Renaming the 'movie_id' column in the credits DataFrame to 'id' for merging\n",
        "credits_column_renamed = credits.rename(index=str, columns={\"movie_id\": \"id\"})\n",
        "\n",
        "# Merging the movies and credits DataFrames on the 'id' column\n",
        "movies_merge = movies.merge(credits_column_renamed, on='id')\n",
        "\n",
        "# Printing the shape of the merged DataFrame to see the number of rows and columns\n",
        "print(movies_merge.shape)\n"
      ],
      "metadata": {
        "colab": {
          "base_uri": "https://localhost:8080/"
        },
        "id": "MHLmfvlanSm0",
        "outputId": "3430c115-a9e8-4750-a5b6-1f236e2d0e2f"
      },
      "execution_count": 10,
      "outputs": [
        {
          "output_type": "stream",
          "name": "stdout",
          "text": [
            "(4803, 23)\n"
          ]
        }
      ]
    },
    {
      "cell_type": "code",
      "source": [
        "# Drop unnecessary columns from the merged DataFrame\n",
        "movies_cleaned = movies_merge.drop(columns=['homepage', 'title_x', 'title_y', 'status', 'production_countries'])\n",
        "\n",
        "# Print the first 5 rows of the cleaned DataFrame to inspect the changes\n",
        "# print(movies_cleaned.head())\n",
        "\n",
        "# Print information about the cleaned DataFrame to understand its structure and data types\n",
        "# print(movies_cleaned.info())\n",
        "\n",
        "# Print the 'overview' column of the first row to see the movie description\n",
        "print(movies_cleaned.head(1)['overview'])\n"
      ],
      "metadata": {
        "colab": {
          "base_uri": "https://localhost:8080/"
        },
        "id": "RbQL8Dx6nZv2",
        "outputId": "2090c238-b264-4877-85d4-c2367a1bb46d"
      },
      "execution_count": 26,
      "outputs": [
        {
          "output_type": "stream",
          "name": "stdout",
          "text": [
            "0    In the 22nd century, a paraplegic Marine is di...\n",
            "Name: overview, dtype: object\n"
          ]
        }
      ]
    },
    {
      "cell_type": "code",
      "source": [
        "\n",
        "from sklearn.feature_extraction.text import TfidfVectorizer\n",
        "\n",
        "# Initializing the TfidfVectorizer with specific parameters\n",
        "tfv = TfidfVectorizer(\n",
        "    min_df=3,  # Ignore terms that appear in fewer than 3 documents\n",
        "    max_features=None,  # Do not limit the number of features (terms)\n",
        "    strip_accents='unicode',  # Remove accents by converting characters to their closest ASCII representation\n",
        "    analyzer='word',  # Analyze at the word level (as opposed to character level)\n",
        "    token_pattern=r'\\w{1,}',  # Regular expression matching words with 1 or more alphanumeric characters\n",
        "    ngram_range=(1, 3),  # Consider unigrams (1-word), bigrams (2-word), and trigrams (3-word) combinations\n",
        "    stop_words='english'  # Remove common English stop words\n",
        ")\n"
      ],
      "metadata": {
        "id": "_ras6gEHnfvw"
      },
      "execution_count": 27,
      "outputs": []
    },
    {
      "cell_type": "code",
      "source": [
        "# Fill any missing values in the 'overview' column with an empty string\n",
        "movies_cleaned['overview'] = movies_cleaned['overview'].fillna('')\n",
        "\n",
        "# Transform the 'overview' text data to a matrix of TF-IDF features\n",
        "tfv_matrix = tfv.fit_transform(movies_cleaned['overview'])\n",
        "\n",
        "# Print the shape of the TF-IDF matrix to see the number of documents and features\n",
        "print(tfv_matrix.shape)\n"
      ],
      "metadata": {
        "colab": {
          "base_uri": "https://localhost:8080/"
        },
        "id": "1N-PwKCmnmDC",
        "outputId": "fda660c0-ecca-4abf-caf8-e9274769a527"
      },
      "execution_count": 28,
      "outputs": [
        {
          "output_type": "stream",
          "name": "stdout",
          "text": [
            "(4803, 10417)\n"
          ]
        }
      ]
    },
    {
      "cell_type": "code",
      "source": [
        "\n",
        "from sklearn.metrics.pairwise import sigmoid_kernel\n",
        "\n",
        "# Compute the sigmoid kernel between the TF-IDF matrices\n",
        "sig = sigmoid_kernel(tfv_matrix, tfv_matrix)\n",
        "\n",
        "# Print the similarity scores for the first movie\n",
        "print(sig[0])\n"
      ],
      "metadata": {
        "colab": {
          "base_uri": "https://localhost:8080/"
        },
        "id": "B9snQX6upfFv",
        "outputId": "1fd35a36-40c9-4fda-89f8-26d328ae4973"
      },
      "execution_count": 29,
      "outputs": [
        {
          "output_type": "stream",
          "name": "stdout",
          "text": [
            "[0.76163447 0.76159416 0.76159416 ... 0.76159416 0.76159416 0.76159416]\n"
          ]
        }
      ]
    },
    {
      "cell_type": "code",
      "source": [
        "# Create a reverse mapping of indices and movie titles\n",
        "indices = pd.Series(movies_cleaned.index, index=movies_cleaned['original_title']).drop_duplicates()\n",
        "\n",
        "# Print the reverse mapping of indices and movie titles\n",
        "# print(indices)\n",
        "\n",
        "# Print the index of the movie 'Newlyweds'\n",
        "print(indices['Newlyweds'])\n",
        "\n",
        "# Print the sigmoid similarity scores for the movie at index 4799 (which corresponds to 'Newlyweds')\n",
        "print(sig[4799])\n",
        "\n",
        "# Enumerate the sigmoid similarity scores for 'Newlyweds' and print them\n",
        "# print(list(enumerate(sig[indices['Newlyweds']])))\n",
        "# Sort the similarity scores in descending order and print them\n",
        "# print(sorted(list(enumerate(sig[indices['Newlyweds']])), key=lambda x: x[1], reverse=True))\n"
      ],
      "metadata": {
        "colab": {
          "base_uri": "https://localhost:8080/"
        },
        "id": "IOafSv5kpo8K",
        "outputId": "8e5ee061-913a-431c-b655-9ffe9c215d8b"
      },
      "execution_count": 35,
      "outputs": [
        {
          "output_type": "stream",
          "name": "stdout",
          "text": [
            "4799\n",
            "[0.76159416 0.76159416 0.76159438 ... 0.76159432 0.76159416 0.76159478]\n"
          ]
        }
      ]
    },
    {
      "cell_type": "code",
      "source": [
        "def give_recomendations(title, sig=sig):\n",
        "    # Get the index corresponding to original_title\n",
        "    idx = indices[title]\n",
        "\n",
        "    # Get the pairwsie similarity scores\n",
        "    sig_scores = list(enumerate(sig[idx]))\n",
        "\n",
        "    # Sort the movies\n",
        "    sig_scores = sorted(sig_scores, key=lambda x: x[1], reverse=True)\n",
        "\n",
        "    # Scores of the 10 most similar movies\n",
        "    sig_scores = sig_scores[1:11]\n",
        "\n",
        "    # Movie indices\n",
        "    movie_indices = [i[0] for i in sig_scores]\n",
        "\n",
        "    # Top 10 most similar movies\n",
        "    return movies_cleaned['original_title'].iloc[movie_indices]"
      ],
      "metadata": {
        "id": "k1XHyrOApzRk"
      },
      "execution_count": 36,
      "outputs": []
    },
    {
      "cell_type": "code",
      "source": [
        "print(give_recomendations('Avatar'))"
      ],
      "metadata": {
        "colab": {
          "base_uri": "https://localhost:8080/"
        },
        "id": "__DtovOip4cj",
        "outputId": "a2afc0b2-385f-4527-f9bd-1c60f879d0fe"
      },
      "execution_count": 37,
      "outputs": [
        {
          "output_type": "stream",
          "name": "stdout",
          "text": [
            "1341                Obitaemyy Ostrov\n",
            "634                       The Matrix\n",
            "3604                       Apollo 18\n",
            "2130                    The American\n",
            "775                        Supernova\n",
            "529                 Tears of the Sun\n",
            "151                          Beowulf\n",
            "311     The Adventures of Pluto Nash\n",
            "847                         Semi-Pro\n",
            "942                 The Book of Life\n",
            "Name: original_title, dtype: object\n"
          ]
        }
      ]
    }
  ]
}